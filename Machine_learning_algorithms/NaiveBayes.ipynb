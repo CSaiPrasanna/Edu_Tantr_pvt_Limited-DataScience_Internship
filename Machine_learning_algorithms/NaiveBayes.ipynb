{
  "nbformat": 4,
  "nbformat_minor": 0,
  "metadata": {
    "colab": {
      "provenance": []
    },
    "kernelspec": {
      "name": "python3",
      "display_name": "Python 3"
    },
    "language_info": {
      "name": "python"
    }
  },
  "cells": [
    {
      "cell_type": "markdown",
      "source": [
        "# Import the required packages"
      ],
      "metadata": {
        "id": "W6lxK0fuznUC"
      }
    },
    {
      "cell_type": "code",
      "execution_count": null,
      "metadata": {
        "id": "aDixdWpwyYbh"
      },
      "outputs": [],
      "source": [
        "import numpy as np\n",
        "import matplotlib.pyplot as plt\n",
        "import pandas as pd\n",
        "from sklearn.datasets import load_iris\n",
        "from sklearn.model_selection import train_test_split\n",
        "from sklearn.naive_bayes import GaussianNB\n",
        "from sklearn.naive_bayes import CategoricalNB\n",
        "from sklearn.naive_bayes import ComplementNB\n",
        "from sklearn.naive_bayes import MultinomialNB\n",
        "from sklearn import metrics"
      ]
    },
    {
      "cell_type": "markdown",
      "source": [
        "# Load the dataset and define train and test"
      ],
      "metadata": {
        "id": "X-vqyDgRzqzO"
      }
    },
    {
      "cell_type": "code",
      "source": [
        "iris=load_iris()\n",
        "X=iris.data\n",
        "y=iris.target\n",
        "X_train,X_test,y_train,y_test=train_test_split(X,y,test_size=0.4,random_state=1)"
      ],
      "metadata": {
        "id": "HfBgNOoWzV-b"
      },
      "execution_count": null,
      "outputs": []
    },
    {
      "cell_type": "markdown",
      "source": [
        "# 1. Gaussian Naive Bayes Model"
      ],
      "metadata": {
        "id": "ihsCrT_Hz8vi"
      }
    },
    {
      "cell_type": "code",
      "source": [
        "gnb = GaussianNB()\n",
        "gnb.fit(X_train, y_train)\n",
        "y_pred = gnb.predict(X_test)\n",
        "print(\"Gaussian Naive Bayes model accuracy(in %):\", metrics.accuracy_score(y_test, y_pred)*100)"
      ],
      "metadata": {
        "colab": {
          "base_uri": "https://localhost:8080/"
        },
        "id": "1m9IAa0Dz677",
        "outputId": "a78e640b-d4c3-492d-8e63-baf0beb0ec4a"
      },
      "execution_count": null,
      "outputs": [
        {
          "output_type": "stream",
          "name": "stdout",
          "text": [
            "Gaussian Naive Bayes model accuracy(in %): 95.0\n"
          ]
        }
      ]
    },
    {
      "cell_type": "markdown",
      "source": [
        "# 2. Categorical Naive Bayes"
      ],
      "metadata": {
        "id": "F4XqBkbV0MoD"
      }
    },
    {
      "cell_type": "code",
      "source": [
        "cnb = CategoricalNB()\n",
        "cnb.fit(X_train, y_train)\n",
        "y_pred = cnb.predict(X_test)\n",
        "print(\"Categorical Naive Bayes model accuracy(in %):\", metrics.accuracy_score(y_test, y_pred)*100)"
      ],
      "metadata": {
        "colab": {
          "base_uri": "https://localhost:8080/"
        },
        "id": "aTz4lpoh0Kl0",
        "outputId": "16a4df44-87fa-4941-f058-d1133ee89d96"
      },
      "execution_count": null,
      "outputs": [
        {
          "output_type": "stream",
          "name": "stdout",
          "text": [
            "Categorical Naive Bayes model accuracy(in %): 96.66666666666667\n"
          ]
        }
      ]
    },
    {
      "cell_type": "markdown",
      "source": [
        "# 3. Complement Naive Bayes"
      ],
      "metadata": {
        "id": "phj7xaqJ1I1v"
      }
    },
    {
      "cell_type": "code",
      "source": [
        "ccnb = ComplementNB()\n",
        "ccnb.fit(X_train, y_train)\n",
        "y_pred = ccnb.predict(X_test)\n",
        "print(\"Complement Naive Bayes model accuracy(in %):\", metrics.accuracy_score(y_test, y_pred)*100)"
      ],
      "metadata": {
        "colab": {
          "base_uri": "https://localhost:8080/"
        },
        "id": "q5bbzVVR0TDL",
        "outputId": "4da0f192-d7a9-499c-f3b0-d7068449040f"
      },
      "execution_count": null,
      "outputs": [
        {
          "output_type": "stream",
          "name": "stdout",
          "text": [
            "Complement Naive Bayes model accuracy(in %): 65.0\n"
          ]
        }
      ]
    },
    {
      "cell_type": "markdown",
      "source": [
        "# 4. Multinommial Naive Bayes"
      ],
      "metadata": {
        "id": "9j8zHMVZ1YJn"
      }
    },
    {
      "cell_type": "code",
      "source": [
        "mnb = MultinomialNB()\n",
        "mnb.fit(X_train, y_train)\n",
        "y_pred = mnb.predict(X_test)\n",
        "print(\"Multinomial Naive Bayes model accuracy(in %):\", metrics.accuracy_score(y_test, y_pred)*100)"
      ],
      "metadata": {
        "colab": {
          "base_uri": "https://localhost:8080/"
        },
        "id": "GRycwD0m1Qoz",
        "outputId": "1dc2ad98-fcc8-4e9e-cc0c-fe015c295dc2"
      },
      "execution_count": null,
      "outputs": [
        {
          "output_type": "stream",
          "name": "stdout",
          "text": [
            "Multinomial Naive Bayes model accuracy(in %): 93.33333333333333\n"
          ]
        }
      ]
    },
    {
      "cell_type": "code",
      "source": [],
      "metadata": {
        "id": "SV4GiZYN1epe"
      },
      "execution_count": null,
      "outputs": []
    }
  ]
}